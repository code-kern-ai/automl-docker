{
 "cells": [
  {
   "cell_type": "code",
   "execution_count": 1,
   "metadata": {},
   "outputs": [],
   "source": [
    "import numpy as np\n",
    "from fastapi import FastAPI, responses\n",
    "from pydantic import BaseModel\n",
    "from configparser import ConfigParser\n",
    "from util import get_model,get_encoder\n",
    "import pickle\n",
    "\n",
    "from embedders.classification.contextual import TransformerSentenceEmbedder\n"
   ]
  },
  {
   "cell_type": "code",
   "execution_count": 2,
   "metadata": {},
   "outputs": [
    {
     "name": "stderr",
     "output_type": "stream",
     "text": [
      "WARNING:root:No sentence-transformers model found with name /home/leonardpuettmann/.cache/torch/sentence_transformers/distilbert-base-uncased. Creating a new one with MEAN pooling.\n",
      "Some weights of the model checkpoint at /home/leonardpuettmann/.cache/torch/sentence_transformers/distilbert-base-uncased were not used when initializing DistilBertModel: ['vocab_projector.bias', 'vocab_transform.bias', 'vocab_layer_norm.weight', 'vocab_transform.weight', 'vocab_layer_norm.bias', 'vocab_projector.weight']\n",
      "- This IS expected if you are initializing DistilBertModel from the checkpoint of a model trained on another task or with another architecture (e.g. initializing a BertForSequenceClassification model from a BertForPreTraining model).\n",
      "- This IS NOT expected if you are initializing DistilBertModel from the checkpoint of a model that you expect to be exactly identical (initializing a BertForSequenceClassification model from a BertForSequenceClassification model).\n"
     ]
    },
    {
     "name": "stdout",
     "output_type": "stream",
     "text": [
      "Initializing model, might take some time...\n"
     ]
    },
    {
     "name": "stderr",
     "output_type": "stream",
     "text": [
      "Encoding batches ...: 100%|██████████| 1/1 [00:00<00:00, 41.98it/s]"
     ]
    },
    {
     "name": "stdout",
     "output_type": "stream",
     "text": [
      "[1, 2, 1]\n",
      "[0.56, 0.42, 0.43]\n"
     ]
    },
    {
     "name": "stderr",
     "output_type": "stream",
     "text": [
      "\n"
     ]
    }
   ],
   "source": [
    "use_encoder = 'True'\n",
    "transformer = TransformerSentenceEmbedder('distilbert-base-uncased')\n",
    "\n",
    "\n",
    "# Load in the data, lower all words\n",
    "corpus = ['test', 'test2', 'test3']\n",
    "\n",
    "# Create embeddings to make text usable by ml model\n",
    "embeddings = transformer.transform(corpus)\n",
    "\n",
    "# Use ml model to create predictions\n",
    "model = pickle.load(open(\"/home/leonardpuettmann/repos/automl-docker/ml/model.pkl\", \"rb\"))\n",
    "\n",
    "predictions = model.predict(embeddings).tolist()\n",
    "\n",
    "probabilities = model.predict_proba(embeddings)\n",
    "probabilities_max = [round(np.max(i), 2) for i in probabilities]\n",
    "print(predictions)\n",
    "print(probabilities_max)\n",
    "\n"
   ]
  },
  {
   "cell_type": "code",
   "execution_count": 4,
   "metadata": {},
   "outputs": [
    {
     "name": "stdout",
     "output_type": "stream",
     "text": [
      "[{'label': 'neutral', 'confidence': 0.56}, {'label': 'positive', 'confidence': 0.42}, {'label': 'neutral', 'confidence': 0.43}]\n"
     ]
    }
   ],
   "source": [
    "results = []\n",
    "if use_encoder == 'True':\n",
    "    encode = pickle.load(open(\"/home/leonardpuettmann/repos/automl-docker/ml/encoder.pkl\", \"rb\"))\n",
    "    predictions_labels = encode.inverse_transform(predictions).tolist()\n",
    "\n",
    "    for i, j in zip(predictions_labels, probabilities_max):\n",
    "        results.append({'label': i, 'confidence': j})   \n",
    "else:\n",
    "    for i, j in zip(predictions, probabilities_max):\n",
    "        results.append({'label': i, 'confidence': j})\n",
    "print(results)"
   ]
  },
  {
   "cell_type": "code",
   "execution_count": null,
   "metadata": {},
   "outputs": [],
   "source": []
  }
 ],
 "metadata": {
  "kernelspec": {
   "display_name": "Python 3.9.2 64-bit",
   "language": "python",
   "name": "python3"
  },
  "language_info": {
   "codemirror_mode": {
    "name": "ipython",
    "version": 3
   },
   "file_extension": ".py",
   "mimetype": "text/x-python",
   "name": "python",
   "nbconvert_exporter": "python",
   "pygments_lexer": "ipython3",
   "version": "3.9.2"
  },
  "orig_nbformat": 4,
  "vscode": {
   "interpreter": {
    "hash": "31f2aee4e71d21fbe5cf8b01ff0e069b9275f58929596ceb00d14d90e3e16cd6"
   }
  }
 },
 "nbformat": 4,
 "nbformat_minor": 2
}
