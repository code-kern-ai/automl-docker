{
 "cells": [
  {
   "cell_type": "code",
   "execution_count": 14,
   "metadata": {},
   "outputs": [],
   "source": [
    "# Import statements go here\n",
    "from fastapi import FastAPI, responses\n",
    "from pydantic import BaseModel\n",
    "import pickle\n",
    "from configparser import ConfigParser\n",
    "import numpy as np\n",
    "import pandas as pd\n",
    "\n",
    "from embedders.classification.contextual import TransformerSentenceEmbedder"
   ]
  },
  {
   "cell_type": "code",
   "execution_count": 16,
   "metadata": {},
   "outputs": [],
   "source": [
    "df = pd.read_csv('/home/leonardpuettmann/repos/automl-docker/sample_data/final_export.csv')"
   ]
  },
  {
   "cell_type": "code",
   "execution_count": 17,
   "metadata": {},
   "outputs": [
    {
     "data": {
      "text/plain": [
       "Index(['Unnamed: 0', 'running_id', 'link', 'article_type', 'headline',\n",
       "       'content_extract', 'author', 'publication_time', 'shares',\n",
       "       '__final verdict__MANUAL', '__final verdict__WEAK_SUPERVISION',\n",
       "       '__final verdict__WEAK_SUPERVISION__confidence', 'combined'],\n",
       "      dtype='object')"
      ]
     },
     "execution_count": 17,
     "metadata": {},
     "output_type": "execute_result"
    }
   ],
   "source": [
    "df.columns"
   ]
  },
  {
   "cell_type": "code",
   "execution_count": 23,
   "metadata": {},
   "outputs": [
    {
     "name": "stdout",
     "output_type": "stream",
     "text": [
      "Auf der Suche nach extremistischen Beamten\n",
      "Heute jährt sich eine der umstrittensten Entscheidungen der Ministerpräsidentenkonferenz: Wie soll der Staat mit Beamten und Anwärtern umgehen, an deren Verfassungstreue es Zweifel gibt?\n",
      "0\n"
     ]
    }
   ],
   "source": [
    "print(df.headline[7])\n",
    "print(df.content_extract[7])\n",
    "print(df['__final verdict__WEAK_SUPERVISION'][7])"
   ]
  },
  {
   "cell_type": "code",
   "execution_count": 24,
   "metadata": {},
   "outputs": [
    {
     "name": "stderr",
     "output_type": "stream",
     "text": [
      "WARNING:root:No sentence-transformers model found with name /home/leonardpuettmann/.cache/torch/sentence_transformers/bert-base-german-cased. Creating a new one with MEAN pooling.\n",
      "Some weights of the model checkpoint at /home/leonardpuettmann/.cache/torch/sentence_transformers/bert-base-german-cased were not used when initializing BertModel: ['cls.predictions.decoder.weight', 'cls.predictions.transform.LayerNorm.weight', 'cls.predictions.bias', 'cls.predictions.transform.LayerNorm.bias', 'cls.predictions.transform.dense.bias', 'cls.seq_relationship.bias', 'cls.seq_relationship.weight', 'cls.predictions.transform.dense.weight']\n",
      "- This IS expected if you are initializing BertModel from the checkpoint of a model trained on another task or with another architecture (e.g. initializing a BertForSequenceClassification model from a BertForPreTraining model).\n",
      "- This IS NOT expected if you are initializing BertModel from the checkpoint of a model that you expect to be exactly identical (initializing a BertForSequenceClassification model from a BertForSequenceClassification model).\n"
     ]
    },
    {
     "name": "stdout",
     "output_type": "stream",
     "text": [
      "Initializing model, might take some time...\n"
     ]
    },
    {
     "name": "stderr",
     "output_type": "stream",
     "text": [
      "Encoding batches ...: 100%|██████████| 1/1 [00:00<00:00,  4.90it/s]\n"
     ]
    }
   ],
   "source": [
    "\n",
    "config = ConfigParser()\n",
    "config.read('/home/leonardpuettmann/repos/automl-docker/ml/config.ini')\n",
    "model = config['Transformer_Model']['model_used']\n",
    "transformer = TransformerSentenceEmbedder(model)\n",
    "\n",
    "corpus = ['Endstation Verzweiflung bei der Deutschen Bahn Die Bahn steckt fest im selbst verschuldeten Schlamassel aus zahlreichen Baustellen und endlosen Verspätungen. Findet sie da jemals wieder raus?', 'Auf der Suche nach extremistischen Beamten Auf der Suche nach extremistischen Beamten \\\n",
    "Heute jährt sich eine der umstrittensten Entscheidungen der Ministerpräsidentenkonferenz: Wie soll der Staat mit Beamten und Anwärtern umgehen, an deren Verfassungstreue es Zweifel gibt?']\n",
    "\n",
    "    # Create embeddings to make text usable by ml model\n",
    "embeddings = transformer.transform(corpus)\n"
   ]
  },
  {
   "cell_type": "code",
   "execution_count": 25,
   "metadata": {},
   "outputs": [],
   "source": [
    "# Use ml model to create predictions\n",
    "model = pickle.load(open(\"/home/leonardpuettmann/repos/automl-docker/ml/model.pkl\", \"rb\"))\n",
    "predictions = model.predict(embeddings).tolist()\n",
    "probabilities = model.predict_proba(embeddings)\n",
    "probabilities_max = np.max(probabilities, axis=1).tolist()\n",
    "probabilities_rounded = [round(prob, 2) for prob in probabilities_max]\n",
    "probabilities_pct = [prob * 100 for prob in probabilities_rounded]"
   ]
  },
  {
   "cell_type": "code",
   "execution_count": 26,
   "metadata": {},
   "outputs": [
    {
     "name": "stdout",
     "output_type": "stream",
     "text": [
      "{81.0: 1, 71.0: 0}\n"
     ]
    }
   ],
   "source": [
    "dictionary = dict(zip(probabilities_pct, predictions))\n",
    "print(dictionary)\n"
   ]
  },
  {
   "cell_type": "code",
   "execution_count": null,
   "metadata": {},
   "outputs": [],
   "source": []
  }
 ],
 "metadata": {
  "interpreter": {
   "hash": "31f2aee4e71d21fbe5cf8b01ff0e069b9275f58929596ceb00d14d90e3e16cd6"
  },
  "kernelspec": {
   "display_name": "Python 3.9.2 64-bit",
   "language": "python",
   "name": "python3"
  },
  "language_info": {
   "codemirror_mode": {
    "name": "ipython",
    "version": 3
   },
   "file_extension": ".py",
   "mimetype": "text/x-python",
   "name": "python",
   "nbconvert_exporter": "python",
   "pygments_lexer": "ipython3",
   "version": "3.9.2"
  },
  "orig_nbformat": 4
 },
 "nbformat": 4,
 "nbformat_minor": 2
}
